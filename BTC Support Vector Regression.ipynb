{
 "cells": [
  {
   "cell_type": "code",
   "execution_count": 1,
   "metadata": {},
   "outputs": [],
   "source": [
    "import pandas as pd\n",
    "import numpy as np\n",
    "from sklearn.svm import SVR\n",
    "from sklearn.linear_model import LinearRegression\n",
    "model = LinearRegression()\n",
    "\n"
   ]
  },
  {
   "cell_type": "code",
   "execution_count": 2,
   "metadata": {},
   "outputs": [],
   "source": [
    "regress_lin = SVR(kernel = \"linear\",C=1e3)\n",
    "regress_rbf = SVR(kernel=\"rbf\",C=1e3,gamma=0.1)\n",
    "regress_poly = SVR(kernel=\"poly\",C=1e3,degree=2)"
   ]
  },
  {
   "cell_type": "code",
   "execution_count": 3,
   "metadata": {},
   "outputs": [],
   "source": [
    "data = pd.read_excel(\"BTC data.xlsx\")\n",
    "data = pd.DataFrame({\"close\":data[\"Close**\"], \"volume\":data[\"Volume\"]})"
   ]
  },
  {
   "cell_type": "code",
   "execution_count": 4,
   "metadata": {},
   "outputs": [],
   "source": [
    "ypred_rbf=[]\n",
    "ypred_poly=[]\n",
    "for i in range(0,1360):\n",
    "    y=[]\n",
    "    x=[]\n",
    "    for j in range(i,i+3):        \n",
    "        y.append(data.close[j])\n",
    "        x.append([data.volume[j]])\n",
    "    y = np.array(y)\n",
    "    y = y.ravel()\n",
    "    x = np.array(x)\n",
    "    x = x.reshape(-1,1)\n",
    "\n",
    "    #regress_poly.fit(x,y)\n",
    "    regress_rbf.fit(x,y)\n",
    "    ypred_rbf.append(regress_rbf.predict([[data.volume[i+3]]]))\n",
    "    #ypred_poly.append(regress_poly.predict([[data.volume[i+3]]]))"
   ]
  },
  {
   "cell_type": "code",
   "execution_count": 5,
   "metadata": {},
   "outputs": [],
   "source": [
    "ypred_lin=[]\n",
    "for i in range(0,1360):\n",
    "    y=[]\n",
    "    x=[]\n",
    "    for j in range(i,i+3):        \n",
    "        y.append(data.close[j])\n",
    "        x.append([data.volume[j]])\n",
    "    y = np.array(y)\n",
    "    y = y.ravel()\n",
    "    x = np.array(x)\n",
    "    x = x.reshape(-1,1)\n",
    "    model.fit(x,y)\n",
    "    ypred_lin.append(model.predict([[data.volume[i+3]]])) "
   ]
  },
  {
   "cell_type": "code",
   "execution_count": null,
   "metadata": {},
   "outputs": [],
   "source": []
  },
  {
   "cell_type": "code",
   "execution_count": null,
   "metadata": {},
   "outputs": [],
   "source": []
  },
  {
   "cell_type": "code",
   "execution_count": null,
   "metadata": {},
   "outputs": [],
   "source": []
  },
  {
   "cell_type": "code",
   "execution_count": null,
   "metadata": {},
   "outputs": [],
   "source": []
  },
  {
   "cell_type": "code",
   "execution_count": null,
   "metadata": {},
   "outputs": [],
   "source": []
  }
 ],
 "metadata": {
  "kernelspec": {
   "display_name": "Python 3",
   "language": "python",
   "name": "python3"
  },
  "language_info": {
   "codemirror_mode": {
    "name": "ipython",
    "version": 3
   },
   "file_extension": ".py",
   "mimetype": "text/x-python",
   "name": "python",
   "nbconvert_exporter": "python",
   "pygments_lexer": "ipython3",
   "version": "3.6.4"
  }
 },
 "nbformat": 4,
 "nbformat_minor": 2
}
